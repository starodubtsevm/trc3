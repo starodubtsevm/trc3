{
 "cells": [
  {
   "cell_type": "markdown",
   "id": "3257d241",
   "metadata": {},
   "source": [
    "## Модель приемника ТРЦ-3"
   ]
  },
  {
   "cell_type": "markdown",
   "id": "6b44064f",
   "metadata": {},
   "source": [
    "Структурная схема приемника приведена на рис. 1. "
   ]
  },
  {
   "cell_type": "code",
   "execution_count": null,
   "id": "c42ad158",
   "metadata": {
    "scrolled": true
   },
   "outputs": [],
   "source": []
  },
  {
   "cell_type": "code",
   "execution_count": null,
   "id": "d8994c51",
   "metadata": {},
   "outputs": [],
   "source": []
  }
 ],
 "metadata": {
  "kernelspec": {
   "display_name": "Python 3 (ipykernel)",
   "language": "python",
   "name": "python3"
  },
  "language_info": {
   "codemirror_mode": {
    "name": "ipython",
    "version": 3
   },
   "file_extension": ".py",
   "mimetype": "text/x-python",
   "name": "python",
   "nbconvert_exporter": "python",
   "pygments_lexer": "ipython3",
   "version": "3.9.7"
  }
 },
 "nbformat": 4,
 "nbformat_minor": 5
}
